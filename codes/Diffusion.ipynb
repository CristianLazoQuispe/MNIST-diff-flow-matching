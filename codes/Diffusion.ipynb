{
 "cells": [
  {
   "cell_type": "code",
   "execution_count": null,
   "id": "12d4ee01-f9cd-4858-8c5b-bab99c5ad5a9",
   "metadata": {},
   "outputs": [
    {
     "name": "stderr",
     "output_type": "stream",
     "text": [
      "/home/va0831/slr/end_slr/lib64/python3.9/site-packages/IPython/core/magics/osm.py:417: UserWarning: using dhist requires you to install the `pickleshare` library.\n",
      "  self.shell.db['dhist'] = compress_dhist(dhist)[-100:]\n"
     ]
    },
    {
     "name": "stdout",
     "output_type": "stream",
     "text": [
      "/home/va0831/Projects/FlowMatchingMnist\n"
     ]
    }
   ],
   "source": [
    "cd .."
   ]
  },
  {
   "cell_type": "code",
   "execution_count": null,
   "id": "1e14a303-7af8-4008-bfdf-bdcb9e42f268",
   "metadata": {},
   "outputs": [],
   "source": [
    "import os\n",
    "import sys\n",
    "import numpy as np\n",
    "import torch\n",
    "from tqdm import tqdm\n",
    "import matplotlib.pyplot as plt\n",
    "from torchvision import  utils\n",
    "import torch.nn.functional as F\n",
    "sys.path.append(os.path.abspath(os.path.join(os.path.dirname(__file__), '..')))\n",
    "from src.model import ConditionalUNet\n",
    "from src.utils import set_seed\n",
    "from src.dataset import get_data\n",
    "set_seed(42)\n",
    "\n",
    "\n",
    "# --- Configuration ---\n",
    "device = 'cuda:0' if torch.cuda.is_available() else 'cpu'\n",
    "batch_size = 128\n",
    "timesteps = 500\n",
    "img_shape = (1, 28, 28)\n",
    "betas = torch.linspace(1e-4, 0.02, timesteps)\n",
    "alphas = 1.0 - betas\n",
    "alphas_cumprod = torch.cumprod(alphas, dim=0).to(device)\n",
    "\n",
    "os.makedirs(\"outputs/diffusion\", exist_ok=True)\n",
    "os.makedirs(\"outputs/diffusion/images/\", exist_ok=True)\n",
    "\n",
    "# --- Dataset ---\n",
    "train_loader, val_loader = get_data(batch_size=batch_size)\n",
    "\n",
    "\n",
    "# --- DDPM Training ---\n",
    "def train_diffusion(epochs=100, save_imgs=False, model_name=\"diffusion_model\"):\n",
    "    model = ConditionalUNet().to(device)\n",
    "    opt = torch.optim.Adam(model.parameters(), lr=1e-4)\n",
    "    min_val_loss = float('inf')\n",
    "\n",
    "    for epoch in range(epochs):\n",
    "        model.train()\n",
    "        train_bar = tqdm(train_loader, desc=f\"[Train Epoch {epoch}]\", leave=True, ncols=100)\n",
    "        for x0, labels in train_bar:\n",
    "            x0, labels = x0.to(device), labels.to(device)\n",
    "            t = torch.randint(0, timesteps, (x0.size(0),), device=device)\n",
    "            at = alphas_cumprod[t].view(-1, 1, 1, 1)\n",
    "            noise = torch.randn_like(x0)\n",
    "            xt = (at.sqrt() * x0 + (1 - at).sqrt() * noise).clamp(-1, 1)\n",
    "            noise_pred = model(xt, t.float(), labels)\n",
    "            loss = F.mse_loss(noise_pred, noise)\n",
    "\n",
    "            opt.zero_grad()\n",
    "            loss.backward()\n",
    "            opt.step()\n",
    "            train_bar.set_postfix({\"loss\": f\"{loss.item():.4f}\"})\n",
    "\n",
    "        model.eval()\n",
    "        val_losses = []\n",
    "        with torch.no_grad():\n",
    "            val_bar = tqdm(val_loader, desc=f\"[Val   Epoch {epoch}]\", leave=True, ncols=100)\n",
    "            for x0, labels in val_bar:\n",
    "                x0, labels = x0.to(device), labels.to(device)\n",
    "                t = torch.randint(0, timesteps, (x0.size(0),), device=device)\n",
    "                at = alphas_cumprod[t].view(-1, 1, 1, 1)\n",
    "                noise = torch.randn_like(x0)\n",
    "                xt = (at.sqrt() * x0 + (1 - at).sqrt() * noise).clamp(-1, 1)\n",
    "                noise_pred = model(xt, t.float(), labels)\n",
    "                val_loss = F.mse_loss(noise_pred, noise)\n",
    "                val_losses.append(val_loss.item())\n",
    "                val_bar.set_postfix({\"loss\": f\"{np.mean(val_losses):.4f}\"})\n",
    "\n",
    "        avg_val_loss = np.mean(val_losses)\n",
    "        #print(f\"Validation Loss: {avg_val_loss:.4f}\")\n",
    "\n",
    "        if avg_val_loss < min_val_loss:\n",
    "            min_val_loss = avg_val_loss\n",
    "            print(\"Saving best model!\")\n",
    "            torch.save(model.state_dict(), f\"outputs/diffusion/{model_name}.pth\")\n",
    "\n",
    "        if (epoch + 1) % 10 == 0 and save_imgs:\n",
    "            generate_diffusion(9, model, save_path=f\"outputs/diffusion/images/sample_epoch{epoch+1}.png\")\n",
    "\n",
    "@torch.no_grad()\n",
    "def generate_diffusion(label, model=None, save_path=None, show=False):\n",
    "    if model is None:\n",
    "        model = ConditionalUNet().to(device)\n",
    "        model.load_state_dict(torch.load(\"outputs/diffusion/diffusion_model.pth\"))\n",
    "        model.eval()\n",
    "\n",
    "    x = torch.randn(64, *img_shape).to(device)\n",
    "    y = torch.full((64,), label, dtype=torch.long, device=device)\n",
    "\n",
    "    for t in reversed(range(timesteps)):\n",
    "        t_tensor = torch.full((x.size(0),), t, device=device, dtype=torch.float)\n",
    "        noise_pred = model(x, t_tensor, y)\n",
    "        x = (1 / alphas[t].sqrt()) * (x - noise_pred * betas[t] / (1 - alphas_cumprod[t]).sqrt())\n",
    "        if t > 0:\n",
    "            noise = torch.randn(64, *img_shape).to(device)\n",
    "            v = (1 - alphas_cumprod[t - 1]) / (1 - alphas_cumprod[t]) * betas[t]\n",
    "            x += v.sqrt() * noise\n",
    "        x = x.clamp(-1, 1)\n",
    "\n",
    "    img = (x + 1) / 2\n",
    "    utils.save_image(img, save_path or f\"outputs/diffusion/images/generated_label{label}.png\", nrow=8)\n",
    "    if show:\n",
    "        plt.imshow(img[0].cpu().squeeze().numpy(), cmap='gray')\n",
    "        plt.axis('off')\n",
    "        plt.title(f'Generated {label}')\n",
    "        plt.show()\n",
    "\n",
    "train_diffusion(epochs=10, save_imgs=True, model_name=\"diffusion_model_aux\")\n"
   ]
  },
  {
   "cell_type": "code",
   "execution_count": null,
   "id": "78a62a9e-45db-42d3-b414-3b15a1753f36",
   "metadata": {},
   "outputs": [],
   "source": []
  },
  {
   "cell_type": "code",
   "execution_count": null,
   "id": "57367495-e51d-4515-9fd4-2d697a9c5fd2",
   "metadata": {},
   "outputs": [],
   "source": []
  },
  {
   "cell_type": "code",
   "execution_count": null,
   "id": "701bbe63-6efd-4304-b7af-d6068b00f33e",
   "metadata": {},
   "outputs": [],
   "source": []
  },
  {
   "cell_type": "code",
   "execution_count": null,
   "id": "763f94e7-3cde-45ef-8208-75effeaf50eb",
   "metadata": {},
   "outputs": [],
   "source": []
  },
  {
   "cell_type": "code",
   "execution_count": null,
   "id": "0d4a77a8-bf66-46e3-b544-2e965118814a",
   "metadata": {},
   "outputs": [],
   "source": []
  }
 ],
 "metadata": {
  "kernelspec": {
   "display_name": "Python 3 (ipykernel)",
   "language": "python",
   "name": "python3"
  },
  "language_info": {
   "codemirror_mode": {
    "name": "ipython",
    "version": 3
   },
   "file_extension": ".py",
   "mimetype": "text/x-python",
   "name": "python",
   "nbconvert_exporter": "python",
   "pygments_lexer": "ipython3",
   "version": "3.9.18"
  }
 },
 "nbformat": 4,
 "nbformat_minor": 5
}
