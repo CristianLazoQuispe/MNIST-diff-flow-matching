{
 "cells": [
  {
   "cell_type": "code",
   "execution_count": 3,
   "id": "8e7f264f-683b-4d69-a53e-88ea5db4ec09",
   "metadata": {},
   "outputs": [
    {
     "name": "stdout",
     "output_type": "stream",
     "text": [
      "/home/va0831/Projects\n"
     ]
    }
   ],
   "source": [
    "cd .."
   ]
  },
  {
   "cell_type": "code",
   "execution_count": 4,
   "id": "70fa55ce",
   "metadata": {},
   "outputs": [
    {
     "data": {
      "image/png": "[encoded data removed]",
      "text/plain": [
       "<Figure size 640x480 with 1 Axes>"
      ]
     },
     "metadata": {},
     "output_type": "display_data"
    }
   ],
   "source": [
    "import os\n",
    "import sys\n",
    "import numpy as np\n",
    "import torch\n",
    "from tqdm import tqdm\n",
    "import matplotlib.pyplot as plt\n",
    "from torchvision import  utils\n",
    "import torch.nn.functional as F\n",
    "from src.model import ConditionalUNet\n",
    "from src.utils import set_seed,generate_centered_gaussian_noise\n",
    "from src.dataset import get_data\n",
    "set_seed(42)\n",
    "\n",
    "# --- Configuración ---\n",
    "device = 'cuda:0' if torch.cuda.is_available() else 'cpu'\n",
    "batch_size = 128\n",
    "timesteps = 100\n",
    "img_shape = (1, 28, 28)\n",
    "os.makedirs(\"outputs/flow_matching\", exist_ok=True)\n",
    "os.makedirs(\"outputs/flow_matching/images/\", exist_ok=True)\n",
    "\n",
    "\n",
    "\n",
    "# Generar imagen\n",
    "img = generate_centered_gaussian_noise((1, 1, 28, 28))\n",
    "img = (img-img.min())/(img.max()-img.min())\n",
    "# Visualizar\n",
    "plt.imshow(img[0, 0].numpy(), cmap='gray')\n",
    "plt.title(\"Centered Gaussian Noise\")\n",
    "plt.axis('off')\n",
    "plt.show()\n"
   ]
  },
  {
   "cell_type": "code",
   "execution_count": null,
   "id": "07210d77-8819-4015-a6dc-d59b1afb6f3a",
   "metadata": {},
   "outputs": [],
   "source": [
    "# --- Dataset ---\n",
    "train_loader, val_loader = get_data(batch_size=batch_size,img_shape=img_shape)\n",
    "\n",
    "# --- Flow Matching ---\n",
    "def train_flow(epochs=1000,save_imgs=True,model_name=\"flow_model\",use_localized_noise = False):    \n",
    "    model = ConditionalUNet().to(device)\n",
    "    opt = torch.optim.Adam(model.parameters(), lr=0.0001)\n",
    "    min_val_loss =np.inf\n",
    "\n",
    "    for epoch in range(epochs):\n",
    "        pbar = tqdm(train_loader, desc=f\"[Train Epoch {epoch}]\", leave=True, ncols=100)\n",
    "        for x_real, y in pbar:\n",
    "            x_real = x_real.to(device)\n",
    "            y = y.to(device)\n",
    "            if use_localized_noise:\n",
    "                x_noise = generate_centered_gaussian_noise(x_real.shape).to(device)\n",
    "            else:\n",
    "                x_noise = torch.randn_like(x_real)\n",
    "            \n",
    "            t = torch.rand(x_real.size(0), device=device)\n",
    "            x_t = (1 - t.view(-1, 1, 1, 1)) * x_noise + t.view(-1, 1, 1, 1) * x_real\n",
    "            v_target = x_real - x_noise\n",
    "            #t, x_t, v_target = FM.sample_location_and_conditional_flow(x_noise, x_real)\n",
    "            v_pred = model(x_t, t, y)\n",
    "            mse = torch.mean((v_pred - v_target) ** 2)\n",
    "            norm_pred = F.log_softmax(v_pred.view(v_pred.size(0), -1), dim=1)\n",
    "            norm_true = F.softmax(v_target.view(v_target.size(0), -1), dim=1)\n",
    "            kl = F.kl_div(norm_pred, norm_true, reduction='batchmean')\n",
    "            loss = mse# + 0.1 * kl\n",
    "\n",
    "            opt.zero_grad()\n",
    "            loss.backward()\n",
    "            opt.step()\n",
    "\n",
    "            pbar.set_postfix({\"loss\": f\"{loss.item():.4f}\"})\n",
    "\n",
    "        model.eval()\n",
    "        val_losses = []\n",
    "        with torch.no_grad():\n",
    "            val_bar = tqdm(val_loader, desc=f\"[Val   Epoch {epoch}]\", leave=True, ncols=100)\n",
    "            for x_real, y in val_bar:\n",
    "                x_real = x_real.to(device)\n",
    "                y = y.to(device)\n",
    "                if use_localized_noise:\n",
    "                    x_noise = generate_centered_gaussian_noise(x_real.shape).to(device)\n",
    "                else:\n",
    "                    x_noise = torch.randn_like(x_real)\n",
    "                t = torch.rand(x_real.size(0), device=device)\n",
    "                x_t = (1 - t.view(-1, 1, 1, 1)) * x_noise + t.view(-1, 1, 1, 1) * x_real\n",
    "                v_target = x_real - x_noise\n",
    "                v_pred = model(x_t, t, y)\n",
    "                mse = torch.mean((v_pred - v_target) ** 2)\n",
    "                val_loss = mse\n",
    "                val_losses.append(val_loss.item())\n",
    "                val_bar.set_postfix({\"loss\": f\"{np.mean(val_losses):.4f}\"})\n",
    "\n",
    "        avg_val_loss = np.mean(val_losses)\n",
    "        if avg_val_loss < min_val_loss:\n",
    "            min_val_loss = avg_val_loss\n",
    "            print(\"Saving best model!\")\n",
    "            torch.save(model.state_dict(), f\"outputs/flow_matching/{model_name}.pth\")\n",
    "        if (epoch + 1) % 10 == 0:\n",
    "            if save_imgs:\n",
    "                generate_flow(9, model=model, save_path=f\"outputs/flow_matching/images/sample_epoch{epoch+1}.png\",use_localized_noise=use_localized_noise)\n",
    "\n",
    "    torch.save(model.state_dict(), f\"outputs/flow_matching/{model_name}.pth\")\n",
    "\n",
    "# --- Generation Flow Conditional ---\n",
    "@torch.no_grad()\n",
    "def generate_flow(label, model=None, save_path=None, show=False,use_localized_noise=False):\n",
    "    if model is None:\n",
    "        model = ConditionalUNet().to(device)\n",
    "        model.load_state_dict(torch.load(\"outputs/flow_matching/flow_model.pth\"))\n",
    "        model.eval()\n",
    "\n",
    "    if use_localized_noise:\n",
    "        x = generate_centered_gaussian_noise((64, *img_shape)).to(device)\n",
    "    else:\n",
    "        x = torch.randn(64, *img_shape).to(device)\n",
    "\n",
    "    y = torch.full((64,), label, dtype=torch.long, device=device)\n",
    "    steps = 50\n",
    "    dt = 1.0 / steps\n",
    "\n",
    "    for i in range(steps):\n",
    "        t = torch.full((x.size(0),), i * dt, device=device)\n",
    "        v = model(x, t, y)\n",
    "        x = x + v * dt\n",
    "\n",
    "    img = (x + 1) / 2\n",
    "    utils.save_image(img, save_path or f\"outputs/flow_matching/images/flow_gen_{label}.png\", nrow=8)\n",
    "    if show:\n",
    "        plt.imshow(img[0].cpu().squeeze().numpy(), cmap='gray')\n",
    "        plt.title(f'Generated {label}')\n",
    "        plt.axis('off')\n",
    "        plt.show()\n",
    "\n",
    "# train_flow()\n",
    "# generate_flow(9)\n",
    "#train_flow(epochs=500,save_imgs=True,model_name=\"flow_model\",use_localized_noise=False)\n",
    "train_flow(epochs=500,save_imgs=True,model_name=\"flow_model_localized_noise\",use_localized_noise=True)\n",
    "\n",
    "\n"
   ]
  },
  {
   "cell_type": "code",
   "execution_count": null,
   "id": "1daeb921",
   "metadata": {},
   "outputs": [],
   "source": []
  },
  {
   "cell_type": "code",
   "execution_count": null,
   "id": "db8be733",
   "metadata": {},
   "outputs": [],
   "source": []
  },
  {
   "cell_type": "code",
   "execution_count": null,
   "id": "30ea1a91",
   "metadata": {},
   "outputs": [],
   "source": []
  },
  {
   "cell_type": "code",
   "execution_count": null,
   "id": "ab868d85",
   "metadata": {},
   "outputs": [],
   "source": []
  }
 ],
 "metadata": {
  "kernelspec": {
   "display_name": "Uni-Sign",
   "language": "python",
   "name": "python3"
  },
  "language_info": {
   "codemirror_mode": {
    "name": "ipython",
    "version": 3
   },
   "file_extension": ".py",
   "mimetype": "text/x-python",
   "name": "python",
   "nbconvert_exporter": "python",
   "pygments_lexer": "ipython3",
   "version": "3.9.21"
  }
 },
 "nbformat": 4,
 "nbformat_minor": 5
}
