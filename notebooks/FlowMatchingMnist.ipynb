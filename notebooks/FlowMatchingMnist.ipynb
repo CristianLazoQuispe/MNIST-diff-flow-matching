{
 "cells": [
  {
   "cell_type": "code",
   "execution_count": 1,
   "id": "8e7f264f-683b-4d69-a53e-88ea5db4ec09",
   "metadata": {},
   "outputs": [
    {
     "name": "stdout",
     "output_type": "stream",
     "text": [
      "/home/va0831/Projects/FlowMatchingMnist\n"
     ]
    },
    {
     "name": "stderr",
     "output_type": "stream",
     "text": [
      "/home/va0831/slr/end_slr/lib64/python3.9/site-packages/IPython/core/magics/osm.py:417: UserWarning: using dhist requires you to install the `pickleshare` library.\n",
      "  self.shell.db['dhist'] = compress_dhist(dhist)[-100:]\n"
     ]
    }
   ],
   "source": [
    "cd .."
   ]
  },
  {
   "cell_type": "code",
   "execution_count": 2,
   "id": "07210d77-8819-4015-a6dc-d59b1afb6f3a",
   "metadata": {},
   "outputs": [],
   "source": [
    "# conditional_mnist_diffusion_flow.py\n",
    "import torch\n",
    "import torch.nn as nn\n",
    "import torch.nn.functional as F\n",
    "from torchvision import datasets, transforms, utils\n",
    "from torch.utils.data import DataLoader\n",
    "from tqdm import tqdm\n",
    "import os\n",
    "\n",
    "# --- Configuración ---\n",
    "device = 'cuda' if torch.cuda.is_available() else 'cpu'\n",
    "batch_size = 128\n",
    "timesteps = 100\n",
    "img_shape = (1, 28, 28)\n",
    "os.makedirs(\"outputs/diffusion\", exist_ok=True)\n",
    "os.makedirs(\"outputs/flow_matching\", exist_ok=True)"
   ]
  },
  {
   "cell_type": "code",
   "execution_count": 3,
   "id": "4dd481bb-3fa7-40da-8e87-5c29fd875e6e",
   "metadata": {},
   "outputs": [],
   "source": [
    "# --- Dataset ---\n",
    "transform = transforms.Compose([\n",
    "    transforms.ToTensor(),\n",
    "    transforms.Lambda(lambda x: x * 2 - 1)\n",
    "])\n",
    "dataset = datasets.MNIST(root='data', train=True, download=True, transform=transform)\n",
    "dataloader = DataLoader(dataset, batch_size=batch_size, shuffle=True)"
   ]
  },
  {
   "cell_type": "code",
   "execution_count": 4,
   "id": "9bbb7bb5-882c-45c6-b3b5-41cc38f0f0b6",
   "metadata": {},
   "outputs": [],
   "source": [
    "class FlowModel(nn.Module):\n",
    "    def __init__(self):\n",
    "        super().__init__()\n",
    "        self.net = nn.Sequential(\n",
    "            nn.Linear(28*28 + 1 + 10, 512),\n",
    "            nn.GELU(),\n",
    "            nn.LayerNorm(512),\n",
    "            nn.Linear(512, 512),\n",
    "            nn.GELU(),\n",
    "            nn.Linear(512, 28*28)\n",
    "        )\n",
    "\n",
    "    def forward(self, x, t, y):\n",
    "        x_flat = x.view(x.size(0), -1)\n",
    "        t_embed = t.unsqueeze(1).float() if t.ndim == 1 else t\n",
    "        y_onehot = F.one_hot(y, num_classes=10).float()\n",
    "        x_cat = torch.cat([x_flat, t_embed, y_onehot], dim=1)\n",
    "        return self.net(x_cat).view(x.size())\n",
    "\n",
    "# --- Entrenamiento Flow Matching ---\n",
    "def train_flow():\n",
    "    #model = nn.DataParallel(FlowModel(), device_ids=[0,1,2,3,4,5]).to(device)\n",
    "    model = FlowModel().to(device)\n",
    "    opt = torch.optim.Adam(model.parameters(), lr=1e-3)\n",
    "\n",
    "    for epoch in range(1000):\n",
    "        pbar = tqdm(dataloader, desc=f\"[Flow {epoch}]\", leave=False, ncols=80)\n",
    "        for x_real, y in pbar:\n",
    "            x_real = x_real.to(device)\n",
    "            y = y.to(device)\n",
    "            x_noise = torch.randn_like(x_real)\n",
    "            t = torch.rand(x_real.size(0), device=device)\n",
    "            x_t = (1 - t.view(-1, 1, 1, 1)) * x_noise + t.view(-1, 1, 1, 1) * x_real\n",
    "            v_target = x_real - x_noise\n",
    "\n",
    "            v_pred = model(x_t, t, y)\n",
    "            mse = F.mse_loss(v_pred, v_target)\n",
    "            norm_pred = F.log_softmax(v_pred.view(v_pred.size(0), -1), dim=1)\n",
    "            norm_true = F.softmax(v_target.view(v_target.size(0), -1), dim=1)\n",
    "            kl = F.kl_div(norm_pred, norm_true, reduction='batchmean')\n",
    "            loss = mse + 0.1 * kl\n",
    "\n",
    "            opt.zero_grad()\n",
    "            loss.backward()\n",
    "            opt.step()\n",
    "\n",
    "            pbar.set_postfix({\"loss\": f\"{loss.item():.4f}\"})\n",
    "\n",
    "        if (epoch + 1) % 10 == 0:\n",
    "            generate_flow(9, model=model, save_path=f\"outputs/flow_matching/sample_epoch{epoch+1}.png\")\n",
    "            torch.save(model.state_dict(), \"outputs/flow_matching/flow_model.pth\")\n",
    "\n",
    "    torch.save(model.state_dict(), \"outputs/flow_matching/flow_model.pth\")\n",
    "\n",
    "# --- Generación Flow Condicional ---\n",
    "@torch.no_grad()\n",
    "def generate_flow(label, model=None, save_path=None, show=False):\n",
    "    if model is None:\n",
    "        #model = nn.DataParallel(FlowModel(), device_ids=[0,1,2,3,4,5])\n",
    "        model = FlowModel().to(device)\n",
    "        model.load_state_dict(torch.load(\"outputs/flow_matching/flow_model.pth\"))\n",
    "        model.eval()\n",
    "\n",
    "    x = torch.randn(64, *img_shape).to(device)\n",
    "    y = torch.full((64,), label, dtype=torch.long, device=device)\n",
    "    steps = 50\n",
    "    dt = 1.0 / steps\n",
    "\n",
    "    for i in range(steps):\n",
    "        t = torch.full((x.size(0),), i * dt, device=device)\n",
    "        v = model(x, t, y)\n",
    "        x = x + v * dt\n",
    "\n",
    "    img = (x + 1) / 2\n",
    "    utils.save_image(img, save_path or f\"outputs/flow_matching/flow_gen_{label}.png\", nrow=8)\n",
    "    if show:\n",
    "        plt.imshow(img[0].cpu().squeeze().numpy(), cmap='gray')\n",
    "        plt.title(f'Generated {label}')\n",
    "        plt.axis('off')\n",
    "        plt.show()\n",
    "\n",
    "# train_flow()\n",
    "# generate_flow(9)"
   ]
  },
  {
   "cell_type": "code",
   "execution_count": 5,
   "id": "9719e065-a3fb-43ee-b434-268f48b845a5",
   "metadata": {},
   "outputs": [
    {
     "name": "stderr",
     "output_type": "stream",
     "text": [
      "                                                                                "
     ]
    }
   ],
   "source": [
    "train_flow()"
   ]
  },
  {
   "cell_type": "code",
   "execution_count": null,
   "id": "3ae3f3d4-1f29-4097-bb60-2c9fd6335610",
   "metadata": {},
   "outputs": [],
   "source": []
  },
  {
   "cell_type": "code",
   "execution_count": null,
   "id": "915f5fec-48d1-49b6-bb04-73b18ce79528",
   "metadata": {},
   "outputs": [],
   "source": []
  }
 ],
 "metadata": {
  "kernelspec": {
   "display_name": "Python 3 (ipykernel)",
   "language": "python",
   "name": "python3"
  },
  "language_info": {
   "codemirror_mode": {
    "name": "ipython",
    "version": 3
   },
   "file_extension": ".py",
   "mimetype": "text/x-python",
   "name": "python",
   "nbconvert_exporter": "python",
   "pygments_lexer": "ipython3",
   "version": "3.9.18"
  }
 },
 "nbformat": 4,
 "nbformat_minor": 5
}
